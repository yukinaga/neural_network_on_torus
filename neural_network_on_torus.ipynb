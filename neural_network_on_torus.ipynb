{
  "nbformat": 4,
  "nbformat_minor": 0,
  "metadata": {
    "colab": {
      "name": "neural_network_on_torus.ipynb",
      "provenance": [],
      "collapsed_sections": [],
      "toc_visible": true,
      "include_colab_link": true
    },
    "kernelspec": {
      "name": "python3",
      "display_name": "Python 3"
    },
    "accelerator": "GPU"
  },
  "cells": [
    {
      "cell_type": "markdown",
      "metadata": {
        "id": "view-in-github",
        "colab_type": "text"
      },
      "source": [
        "<a href=\"https://colab.research.google.com/github/yukinaga/neural_network_on_torus/blob/master/neural_network_on_torus.ipynb\" target=\"_parent\"><img src=\"https://colab.research.google.com/assets/colab-badge.svg\" alt=\"Open In Colab\"/></a>"
      ]
    },
    {
      "cell_type": "markdown",
      "metadata": {
        "id": "hcwFoqyt_fXN",
        "colab_type": "text"
      },
      "source": [
        "# Neural network on a torus\n",
        "A neural network on a torus which simulates a cerebral cortex as a cellular automaton."
      ]
    },
    {
      "cell_type": "markdown",
      "metadata": {
        "id": "PN-MkK9GBAtd",
        "colab_type": "text"
      },
      "source": [
        "## Importing packages"
      ]
    },
    {
      "cell_type": "code",
      "metadata": {
        "id": "fzfH7xKdYj8y",
        "colab_type": "code",
        "colab": {}
      },
      "source": [
        "import numpy as np\n",
        "from PIL import Image, ImageDraw\n",
        "import IPython.display as disp"
      ],
      "execution_count": 0,
      "outputs": []
    },
    {
      "cell_type": "markdown",
      "metadata": {
        "id": "m1UyRciG_eUs",
        "colab_type": "text"
      },
      "source": [
        "## A class of neural network on a torus\n",
        "**connect():**  \n",
        "Connect all neurons.  \n",
        "\n",
        "**initialize_network():**  \n",
        "Initialize parameters and inhibitory ids.  \n",
        "\n",
        "**forward():**  \n",
        "Add a bias to the sum of the product of the input and weight, and process it with a step function.   \n",
        "Weight and bias are updated everytime this method is called."
      ]
    },
    {
      "cell_type": "code",
      "metadata": {
        "id": "UoeY0ehAEPpX",
        "colab_type": "code",
        "colab": {}
      },
      "source": [
        "class TorusNetwork():\n",
        "    def __init__(self, n_h, n_w, n_connect):\n",
        "        n_neuron = n_h * n_w  # Number of neurons in a network\n",
        "        self.params = (n_h, n_w, n_neuron, n_connect)\n",
        "\n",
        "        self.connect_ids = None  # Indices of presynaptic neurons \n",
        "        self.w = None  # Weight\n",
        "        self.b = None  # Bias\n",
        "        self.y = None  # Output of neurons\n",
        "        self.proj = None  # Is projection neurons\n",
        "        self.proj_ids = None  # Indices of projection neurons\n",
        "        self.proj_to_ids = None  # Indices of destination of projection\n",
        "        self.inhib = None  # Is inhibitory neurons\n",
        "\n",
        "    def connect(self, proj_ratio, sigma_inter):\n",
        "        n_h, n_w, n_neuron, n_connect = self.params\n",
        "        \n",
        "        # Random choise of projection neurons\n",
        "        n_proj= int(proj_ratio * n_neuron)\n",
        "        rand_ids = np.random.permutation(np.arange(n_neuron))\n",
        "        self.proj_ids = rand_ids[:n_proj]\n",
        "        self.proj_to_ids = np.random.permutation(self.proj_ids)\n",
        "        self.proj = np.zeros(n_neuron, dtype=np.bool)\n",
        "        self.proj[self.proj_ids] = True\n",
        "\n",
        "        # X-coordinate of interneurons      \n",
        "        inter_dist_x = np.random.randn(n_neuron, n_connect) * sigma_inter\n",
        "        inter_dist_x = np.where(inter_dist_x<0, inter_dist_x-0.5, inter_dist_x+0.5).astype(np.int32) \n",
        "        x_connect = np.zeros((n_neuron, n_connect), dtype=np.int32)\n",
        "        x_connect += np.arange(n_neuron).reshape(-1, 1)\n",
        "        x_connect %= n_w\n",
        "        x_connect += inter_dist_x\n",
        "        x_connect = np.where(x_connect<0, x_connect+n_w, x_connect)\n",
        "        x_connect = np.where(x_connect>=n_w, x_connect-n_w, x_connect)\n",
        "\n",
        "        # Y-coordinate of interneurons         \n",
        "        inter_dist_y = np.random.randn(n_neuron, n_connect) * sigma_inter\n",
        "        inter_dist_y = np.where(inter_dist_y<0, inter_dist_y-0.5, inter_dist_y+0.5).astype(np.int32)        \n",
        "        y_connect = np.zeros((n_neuron, n_connect), dtype=np.int32)\n",
        "        y_connect += np.arange(n_neuron).reshape(-1, 1)\n",
        "        y_connect //= n_w\n",
        "        y_connect += inter_dist_y\n",
        "        y_connect = np.where(y_connect<0, y_connect+n_h, y_connect)\n",
        "        y_connect = np.where(y_connect>=n_h, y_connect-n_h, y_connect)        \n",
        "\n",
        "        # Indices of connection\n",
        "        self.connect_ids = x_connect + n_w * y_connect\n",
        "        \n",
        "    def initialize_network(self, inhib_ratio, w_mu, w_sigma):\n",
        "        n_h, n_w, n_neuron, n_connect = self.params\n",
        "\n",
        "        # Random choise of Inhibitory neurons\n",
        "        n_inhib = int(inhib_ratio * n_neuron)\n",
        "        rand_ids = np.random.permutation(np.arange(n_neuron))\n",
        "        inhib_ids = rand_ids[:n_inhib]\n",
        "        self.inhib = np.zeros(n_neuron, dtype=np.bool)\n",
        "        self.inhib[inhib_ids] = True\n",
        "        \n",
        "        # Initialize weight and bias\n",
        "        self.w = np.random.randn(n_neuron, n_connect) * w_sigma + w_mu\n",
        "        self.w = np.where(np.isin(self.connect_ids, inhib_ids), -self.w, self.w)\n",
        "        self.w /= np.sum(self.w, axis=1, keepdims=True)\n",
        "        self.b = np.full(n_neuron, 0.5)\n",
        "        \n",
        "        # Initialize output\n",
        "        self.y = np.random.randint(0, 2, n_neuron, dtype=np.bool)\n",
        "\n",
        "    def forward(self, delta_b, ramda_w):\n",
        "        # Forward calculation of neurons\n",
        "        self.y[self.proj_to_ids] = self.y[self.proj_ids]  # Projection\n",
        "        x = self.y[self.connect_ids]\n",
        "        u = np.sum(self.w * x, axis=1) - self.b\n",
        "        self.y = np.where(u<0, False, True)\n",
        "        \n",
        "        # Homeostasis\n",
        "        self.b = np.where(self.y, self.b+delta_b, self.b-delta_b)\n",
        "        self.b *= np.sum(self.y) / np.sum(self.b) \n",
        "        \n",
        "        # Hebbian learning\n",
        "        self.w += ramda_w * self.y.reshape(-1, 1) * x * np.where(self.w<0, -1, 1)\n",
        "        self.w /= np.sum(self.w, axis=1, keepdims=True)  # Synaptic scaling"
      ],
      "execution_count": 0,
      "outputs": []
    },
    {
      "cell_type": "markdown",
      "metadata": {
        "id": "LqXwOnOoXT79",
        "colab_type": "text"
      },
      "source": [
        "## Settings\n",
        "Settings of torus neural network."
      ]
    },
    {
      "cell_type": "code",
      "metadata": {
        "id": "LWigqefFNn24",
        "colab_type": "code",
        "colab": {}
      },
      "source": [
        "n_h = 128  # Height of a plane where neurons are located\n",
        "n_w = n_h * 4  # Width of a plane where neurons are located\n",
        "n_connect = 64  # Number of presynaptic neurons a neuron has \n",
        "tnet = TorusNetwork(n_h, n_w, n_connect)\n",
        "\n",
        "proj_ratio = 0.25  # Ratio of projection neurons\n",
        "sigma_inter = 4  # Standard deviation of distance to other neurons\n",
        "tnet.connect(proj_ratio, sigma_inter)\n",
        "\n",
        "inhib_ratio = 0.2  # Ratio of interneurons\n",
        "w_mu = 0.2  # Mean value of weight \n",
        "w_sigma = 0.08  # Standard deviation of weight\n",
        "\n",
        "delta_b = 0.01  # change of bias at every time step\n",
        "ramda_w = 0.001  # Hebbian learning ratio\n",
        "\n",
        "frames = 360  # Frames of the movie"
      ],
      "execution_count": 0,
      "outputs": []
    },
    {
      "cell_type": "markdown",
      "metadata": {
        "id": "fF4lsHryXZat",
        "colab_type": "text"
      },
      "source": [
        "## Temporal change of neurons\n",
        "The below cell shows the temporal change of 2D map of neurons on a torus."
      ]
    },
    {
      "cell_type": "code",
      "metadata": {
        "id": "XEdBufU2Oot-",
        "colab_type": "code",
        "colab": {}
      },
      "source": [
        "tnet.initialize_network(inhib_ratio, w_mu, w_sigma)\n",
        "\n",
        "# Color of neuron types\n",
        "c_proj_exc = np.array([0, 0, 255]).reshape(1, -1)\n",
        "c_proj_inh = np.array([255, 0, 0]).reshape(1, -1)\n",
        "c_inter_exc = np.array([30, 144, 255]).reshape(1, -1)\n",
        "c_inter_inh = np.array([255, 105, 180]).reshape(1, -1)\n",
        "\n",
        "# Color of neurons\n",
        "proj = tnet.proj.reshape(-1, 1)\n",
        "inhib = tnet.inhib.reshape(-1, 1)\n",
        "c_map = np.zeros((n_h*n_w, 3))\n",
        "c_map = np.where(proj & ~inhib, c_proj_exc, c_map)\n",
        "c_map = np.where(proj & inhib, c_proj_inh, c_map)\n",
        "c_map = np.where(~proj & ~inhib, c_inter_exc, c_map)\n",
        "c_map = np.where(~proj & inhib, c_inter_inh, c_map)\n",
        "\n",
        "images = []\n",
        "for i in range(frames):\n",
        "    tnet.forward(delta_b, ramda_w)\n",
        "    y = tnet.y.reshape(-1, 1)\n",
        "\n",
        "    image = np.zeros((n_h*n_w, 3))\n",
        "    image = np.where(y, c_map, image)\n",
        "    image = image.reshape(n_h, n_w, -1).astype(np.uint8)\n",
        "    image = Image.fromarray(image)\n",
        "    images.append(image)\n",
        "\n",
        "images[0].save('tnet_movie.gif',\n",
        "                   save_all=True, append_images=images[1:], optimize=False, duration=100, loop=0)\n",
        "with open('tnet_movie.gif','rb') as f:\n",
        "    disp.display(disp.Image(f.read()))"
      ],
      "execution_count": 0,
      "outputs": []
    },
    {
      "cell_type": "markdown",
      "metadata": {
        "id": "S0Sdf5_XZC5q",
        "colab_type": "text"
      },
      "source": [
        "## Two-dementional outputs of two torus networks (not connected)\n",
        "The below cell shows outputs of two torus networks when they are not connected."
      ]
    },
    {
      "cell_type": "code",
      "metadata": {
        "id": "GU66NmYfkL0h",
        "colab_type": "code",
        "colab": {}
      },
      "source": [
        "tnet1 = TorusNetwork(n_h, n_w, n_connect)\n",
        "tnet1.connect(proj_ratio, sigma_inter)\n",
        "tnet1.initialize_network(inhib_ratio, w_mu, w_sigma)\n",
        "\n",
        "tnet2 = TorusNetwork(n_h, n_w, n_connect)\n",
        "tnet2.connect(proj_ratio, sigma_inter)\n",
        "tnet2.initialize_network(inhib_ratio, w_mu, w_sigma)\n",
        "\n",
        "c_out1 = np.array([0, 191, 255])\n",
        "c_out2 = np.array([255, 165, 0])\n",
        "\n",
        "images = []\n",
        "pre_image = np.zeros((frames, n_h*2, 3), dtype=np.uint8)\n",
        "for i in range(frames):\n",
        "    tnet1.forward(delta_b, ramda_w)\n",
        "    y1 = tnet1.y.reshape(n_h, n_w)\n",
        "    \n",
        "    tnet2.forward(delta_b, ramda_w)\n",
        "    y2 = tnet2.y.reshape(n_h, n_w)\n",
        "    \n",
        "    image = np.zeros((n_h, n_h*2, 3), dtype=np.uint8)\n",
        "    image[:, :n_h, :] = y1[:, 0:n_h].reshape(n_h, n_h, 1) * c_out1.reshape(1, 1, -1)\n",
        "    image[:, n_h:, :] = y2[:, 0:n_h].reshape(n_h, n_h, 1) * c_out2.reshape(1, 1, -1)\n",
        "    \n",
        "    image = Image.fromarray(image)\n",
        "    images.append(image)\n",
        "\n",
        "images[0].save('communication_not_connected.gif',\n",
        "                   save_all=True, append_images=images[1:], optimize=False, duration=100, loop=0)\n",
        "print(\"Not connected\")\n",
        "with open('communication_not_connected.gif','rb') as f:\n",
        "    disp.display(disp.Image(f.read()))"
      ],
      "execution_count": 0,
      "outputs": []
    },
    {
      "cell_type": "markdown",
      "metadata": {
        "id": "VjrokT2-bzfp",
        "colab_type": "text"
      },
      "source": [
        "## Two-dementional outputs of two connected torus networks\n",
        "The below cell shows outputs of two torus networks when they are connected."
      ]
    },
    {
      "cell_type": "code",
      "metadata": {
        "id": "_Th-ZLEphCKf",
        "colab_type": "code",
        "colab": {}
      },
      "source": [
        "tnet1 = TorusNetwork(n_h, n_w, n_connect)\n",
        "tnet1.connect(proj_ratio, sigma_inter)\n",
        "tnet1.initialize_network(inhib_ratio, w_mu, w_sigma)\n",
        "\n",
        "tnet2 = TorusNetwork(n_h, n_w, n_connect)\n",
        "tnet2.connect(proj_ratio, sigma_inter)\n",
        "tnet2.initialize_network(inhib_ratio, w_mu, w_sigma)\n",
        "\n",
        "c_out1 = np.array([0, 191, 255])\n",
        "c_out2 = np.array([255, 165, 0])\n",
        "\n",
        "images = []\n",
        "pre_image = np.zeros((frames, n_h*2, 3), dtype=np.uint8)\n",
        "for i in range(frames):\n",
        "    tnet1.forward(delta_b, ramda_w)\n",
        "    y1 = tnet1.y.reshape(n_h, n_w)\n",
        "    \n",
        "    tnet2.forward(delta_b, ramda_w)\n",
        "    y2 = tnet2.y.reshape(n_h, n_w)\n",
        "    \n",
        "    y2[:, n_h*2:n_h*3] = y1[:, :n_h]\n",
        "    y1[:, n_h*2:n_h*3] = y2[:, :n_h]\n",
        "    \n",
        "    image = np.zeros((n_h, n_h*2, 3), dtype=np.uint8)\n",
        "    image[:, :n_h, :] = y1[:, 0:n_h].reshape(n_h, n_h, 1) * c_out1.reshape(1, 1, -1)\n",
        "    image[:, n_h:, :] = y2[:, 0:n_h].reshape(n_h, n_h, 1) * c_out2.reshape(1, 1, -1)\n",
        "    \n",
        "    image = Image.fromarray(image)\n",
        "    images.append(image)\n",
        "\n",
        "images[0].save('communication_connected.gif',\n",
        "                   save_all=True, append_images=images[1:], optimize=False, duration=100, loop=0)\n",
        "print(\"Connected\")\n",
        "with open('communication_connected.gif','rb') as f:\n",
        "    disp.display(disp.Image(f.read()))"
      ],
      "execution_count": 0,
      "outputs": []
    }
  ]
}